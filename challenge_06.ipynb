{
 "cells": [
  {
   "cell_type": "code",
   "execution_count": 1,
   "metadata": {},
   "outputs": [],
   "source": [
    "import numpy as np\n",
    "import pandas as pd\n",
    "from matplotlib import pyplot as plt\n",
    "%matplotlib inline"
   ]
  },
  {
   "cell_type": "code",
   "execution_count": 2,
   "metadata": {},
   "outputs": [],
   "source": [
    "raw_data = pd.read_csv('data.csv', header=None)"
   ]
  },
  {
   "cell_type": "code",
   "execution_count": 3,
   "metadata": {},
   "outputs": [
    {
     "data": {
      "text/html": [
       "<div>\n",
       "<style scoped>\n",
       "    .dataframe tbody tr th:only-of-type {\n",
       "        vertical-align: middle;\n",
       "    }\n",
       "\n",
       "    .dataframe tbody tr th {\n",
       "        vertical-align: top;\n",
       "    }\n",
       "\n",
       "    .dataframe thead th {\n",
       "        text-align: right;\n",
       "    }\n",
       "</style>\n",
       "<table border=\"1\" class=\"dataframe\">\n",
       "  <thead>\n",
       "    <tr style=\"text-align: right;\">\n",
       "      <th></th>\n",
       "      <th>0</th>\n",
       "      <th>1</th>\n",
       "      <th>2</th>\n",
       "      <th>3</th>\n",
       "      <th>4</th>\n",
       "      <th>5</th>\n",
       "    </tr>\n",
       "  </thead>\n",
       "  <tbody>\n",
       "    <tr>\n",
       "      <th>0</th>\n",
       "      <td>8:56 AM</td>\n",
       "      <td>9:00 AM</td>\n",
       "      <td>7:45 AM</td>\n",
       "      <td>7:45 AM</td>\n",
       "      <td>8:05 AM</td>\n",
       "      <td>7:45 AM</td>\n",
       "    </tr>\n",
       "    <tr>\n",
       "      <th>1</th>\n",
       "      <td>8:40 AM</td>\n",
       "      <td>8:40 AM</td>\n",
       "      <td>8:30 AM</td>\n",
       "      <td>8:30 AM</td>\n",
       "      <td>8:45 AM</td>\n",
       "      <td>8:20 AM</td>\n",
       "    </tr>\n",
       "    <tr>\n",
       "      <th>2</th>\n",
       "      <td>8:45 AM</td>\n",
       "      <td>8:20 AM</td>\n",
       "      <td>8:05 AM</td>\n",
       "      <td>8:00 AM</td>\n",
       "      <td>8:05 AM</td>\n",
       "      <td>8:00 AM</td>\n",
       "    </tr>\n",
       "    <tr>\n",
       "      <th>3</th>\n",
       "      <td>8:40 AM</td>\n",
       "      <td>8:40 AM</td>\n",
       "      <td>8:40 AM</td>\n",
       "      <td>8:25 AM</td>\n",
       "      <td>8:40 AM</td>\n",
       "      <td>8:40 AM</td>\n",
       "    </tr>\n",
       "    <tr>\n",
       "      <th>4</th>\n",
       "      <td>8:55 AM</td>\n",
       "      <td>8:50 AM</td>\n",
       "      <td>8:55 AM</td>\n",
       "      <td>8:10 AM</td>\n",
       "      <td>8:15 AM</td>\n",
       "      <td>8:05 AM</td>\n",
       "    </tr>\n",
       "  </tbody>\n",
       "</table>\n",
       "</div>"
      ],
      "text/plain": [
       "         0        1        2        3        4        5\n",
       "0  8:56 AM  9:00 AM  7:45 AM  7:45 AM  8:05 AM  7:45 AM\n",
       "1  8:40 AM  8:40 AM  8:30 AM  8:30 AM  8:45 AM  8:20 AM\n",
       "2  8:45 AM  8:20 AM  8:05 AM  8:00 AM  8:05 AM  8:00 AM\n",
       "3  8:40 AM  8:40 AM  8:40 AM  8:25 AM  8:40 AM  8:40 AM\n",
       "4  8:55 AM  8:50 AM  8:55 AM  8:10 AM  8:15 AM  8:05 AM"
      ]
     },
     "execution_count": 3,
     "metadata": {},
     "output_type": "execute_result"
    }
   ],
   "source": [
    "raw_data.head()"
   ]
  },
  {
   "cell_type": "code",
   "execution_count": 4,
   "metadata": {},
   "outputs": [
    {
     "data": {
      "text/plain": [
       "array([['8:56 AM', '9:00 AM', '7:45 AM', '7:45 AM', '8:05 AM', '7:45 AM'],\n",
       "       ['8:40 AM', '8:40 AM', '8:30 AM', '8:30 AM', '8:45 AM', '8:20 AM'],\n",
       "       ['8:45 AM', '8:20 AM', '8:05 AM', '8:00 AM', '8:05 AM', '8:00 AM']],\n",
       "      dtype=object)"
      ]
     },
     "execution_count": 4,
     "metadata": {},
     "output_type": "execute_result"
    }
   ],
   "source": [
    "raw_data.values[:3]  # show the first three rows as an array"
   ]
  },
  {
   "cell_type": "markdown",
   "metadata": {},
   "source": [
    "### Put the data in a single array"
   ]
  },
  {
   "cell_type": "code",
   "execution_count": 5,
   "metadata": {},
   "outputs": [
    {
     "data": {
      "text/plain": [
       "(138,)"
      ]
     },
     "execution_count": 5,
     "metadata": {},
     "output_type": "execute_result"
    }
   ],
   "source": [
    "data = raw_data.values.reshape(-1)\n",
    "data.shape"
   ]
  },
  {
   "cell_type": "code",
   "execution_count": 6,
   "metadata": {},
   "outputs": [
    {
     "data": {
      "text/plain": [
       "(array(['8:56 AM', '9:00 AM', '7:45 AM', '7:45 AM', '8:05 AM', '7:45 AM',\n",
       "        '8:40 AM', '8:40 AM', '8:30 AM', '8:30 AM'], dtype=object),\n",
       " array(['9:00 AM', '8:57 AM', '8:57 AM', '8:50 AM', '8:45 AM', '8:50 AM',\n",
       "        '8:30 AM', '8:45 AM', '8:50 AM', '8:10 AM'], dtype=object))"
      ]
     },
     "execution_count": 6,
     "metadata": {},
     "output_type": "execute_result"
    }
   ],
   "source": [
    "data[:10], data[-10:]  # show the beginning and the end of data"
   ]
  },
  {
   "cell_type": "code",
   "execution_count": 7,
   "metadata": {},
   "outputs": [],
   "source": [
    "def convert_time_to_minutes(time_text: str) -> int:\n",
    "    \"\"\"Converts time formatted as 'H:MM AM' to minutes before/after 9:00 AM\"\"\"\n",
    "    try:\n",
    "        time_text = time_text.strip()  # remove any unexpected spaces\n",
    "        hours_minutes, _, am_pm = time_text.partition(' ')\n",
    "        hours, _, minutes = hours_minutes.partition(':')\n",
    "        hours = int(hours)\n",
    "        hours -= 9  # 9:00 AM is zero\n",
    "        if am_pm[0].lower() == 'p':\n",
    "            hours += 12\n",
    "        minutes = int(minutes)\n",
    "        return hours*60 + minutes\n",
    "    except ValueError:\n",
    "        return None"
   ]
  },
  {
   "cell_type": "code",
   "execution_count": 8,
   "metadata": {},
   "outputs": [
    {
     "data": {
      "text/plain": [
       "0"
      ]
     },
     "execution_count": 8,
     "metadata": {},
     "output_type": "execute_result"
    }
   ],
   "source": [
    "# should be 0\n",
    "convert_time_to_minutes(\"9:00 am\")"
   ]
  },
  {
   "cell_type": "code",
   "execution_count": 9,
   "metadata": {},
   "outputs": [
    {
     "data": {
      "text/plain": [
       "-3"
      ]
     },
     "execution_count": 9,
     "metadata": {},
     "output_type": "execute_result"
    }
   ],
   "source": [
    "# should be -3\n",
    "convert_time_to_minutes(\"8:57 am\")"
   ]
  },
  {
   "cell_type": "code",
   "execution_count": 10,
   "metadata": {},
   "outputs": [
    {
     "data": {
      "text/plain": [
       "240"
      ]
     },
     "execution_count": 10,
     "metadata": {},
     "output_type": "execute_result"
    }
   ],
   "source": [
    "# should be 240\n",
    "convert_time_to_minutes(\"1:00 pm\")"
   ]
  },
  {
   "cell_type": "code",
   "execution_count": 11,
   "metadata": {},
   "outputs": [
    {
     "data": {
      "text/plain": [
       "900"
      ]
     },
     "execution_count": 11,
     "metadata": {},
     "output_type": "execute_result"
    }
   ],
   "source": [
    "# should be 180\n",
    "convert_time_to_minutes(\"12:00 pm\")  # why is this an edge case?"
   ]
  },
  {
   "cell_type": "code",
   "execution_count": 12,
   "metadata": {},
   "outputs": [
    {
     "data": {
      "text/plain": [
       "Timestamp('1776-07-04 00:00:00')"
      ]
     },
     "execution_count": 12,
     "metadata": {},
     "output_type": "execute_result"
    }
   ],
   "source": [
    "pd.Timestamp('july 4, 1776')"
   ]
  },
  {
   "cell_type": "markdown",
   "metadata": {},
   "source": [
    "### Oops!\n",
    "Maybe we shouldn't write our own time logic.\n",
    "\n",
    "#### Note: there are two things in Python you _never_ want to reinvent from scratch:\n",
    "\n",
    "1. CSV parsing: use `csv.reader` or `pd.read_csv`\n",
    "2. Time/date logic: use `pd.Timestamp` or `datetime.datetime`"
   ]
  },
  {
   "cell_type": "code",
   "execution_count": 13,
   "metadata": {},
   "outputs": [],
   "source": [
    "def convert_time_to_minutes(time_text: str) -> int:\n",
    "    \"\"\"Converts time formatted as 'H:MM AM' to minutes before/after 9:00 AM\"\"\"\n",
    "    try:\n",
    "        time_delta = pd.Timestamp(time_text) - pd.Timestamp(\"9:00 am\")\n",
    "        return int(time_delta.total_seconds() / 60)\n",
    "    except ValueError:\n",
    "        return None\n",
    "    "
   ]
  },
  {
   "cell_type": "code",
   "execution_count": 14,
   "metadata": {},
   "outputs": [],
   "source": [
    "minutes_early_or_late = [convert_time_to_minutes(time_text) for time_text in data]"
   ]
  },
  {
   "cell_type": "code",
   "execution_count": 15,
   "metadata": {},
   "outputs": [],
   "source": [
    "y = [value for value in minutes_early_or_late if value is not None]  # drop missing/None values"
   ]
  },
  {
   "cell_type": "code",
   "execution_count": 16,
   "metadata": {},
   "outputs": [],
   "source": [
    "x_label = 'Minutes (negative is early, zero is on time, positive is late)'\n",
    "y_label = 'Count'\n",
    "hist_title = 'Student On-Time Performance'"
   ]
  },
  {
   "cell_type": "code",
   "execution_count": 17,
   "metadata": {},
   "outputs": [
    {
     "data": {
      "image/png": "[encoded data removed]",
      "text/plain": [
       "<Figure size 432x288 with 1 Axes>"
      ]
     },
     "metadata": {
      "needs_background": "light"
     },
     "output_type": "display_data"
    }
   ],
   "source": [
    "fig, ax = plt.subplots()\n",
    "ax.hist(y)  # Use the default number of bins\n",
    "ax.set_xlabel(x_label)\n",
    "ax.set_ylabel(y_label)\n",
    "fig.suptitle(hist_title)\n",
    "plt.show()"
   ]
  },
  {
   "cell_type": "markdown",
   "metadata": {},
   "source": [
    "That's not bad, but maybe more detail would be interesting!"
   ]
  },
  {
   "cell_type": "code",
   "execution_count": 18,
   "metadata": {},
   "outputs": [
    {
     "data": {
      "image/png": "[encoded data removed]",
      "text/plain": [
       "<Figure size 432x288 with 1 Axes>"
      ]
     },
     "metadata": {
      "needs_background": "light"
     },
     "output_type": "display_data"
    }
   ],
   "source": [
    "fig, ax = plt.subplots()\n",
    "ax.hist(y, bins=50)  # More bins is better, right?\n",
    "ax.set_xlabel(x_label)\n",
    "ax.set_ylabel(y_label)\n",
    "fig.suptitle(hist_title)\n",
    "plt.show()"
   ]
  },
  {
   "cell_type": "markdown",
   "metadata": {},
   "source": [
    "That seems a bit too sparse."
   ]
  },
  {
   "cell_type": "code",
   "execution_count": 19,
   "metadata": {},
   "outputs": [
    {
     "data": {
      "image/png": "[encoded data removed]",
      "text/plain": [
       "<Figure size 432x288 with 1 Axes>"
      ]
     },
     "metadata": {
      "needs_background": "light"
     },
     "output_type": "display_data"
    }
   ],
   "source": [
    "fig, ax = plt.subplots()\n",
    "ax.hist(y, bins=20)  # Let's try something in between\n",
    "ax.set_xlabel(x_label)\n",
    "ax.set_ylabel(y_label)\n",
    "fig.suptitle(hist_title)\n",
    "plt.show()"
   ]
  },
  {
   "cell_type": "markdown",
   "metadata": {},
   "source": [
    "---"
   ]
  },
  {
   "cell_type": "markdown",
   "metadata": {},
   "source": [
    "---"
   ]
  },
  {
   "cell_type": "markdown",
   "metadata": {},
   "source": [
    "# Step 2: Fit a distribution"
   ]
  },
  {
   "cell_type": "markdown",
   "metadata": {},
   "source": [
    "Which of these distributions would be _most likely_ to have generated the data?\n",
    "\n",
    "Create a program that can generate similar data using `scipy.stats.<distribution>.rvs()`?"
   ]
  },
  {
   "cell_type": "markdown",
   "metadata": {},
   "source": [
    "> To me the arrival times look `normal`.  \n",
    "> Below is Miles' starter code:"
   ]
  },
  {
   "cell_type": "code",
   "execution_count": 20,
   "metadata": {},
   "outputs": [
    {
     "data": {
      "image/png": "[encoded data removed]",
      "text/plain": [
       "<Figure size 1440x1080 with 2 Axes>"
      ]
     },
     "metadata": {
      "needs_background": "light"
     },
     "output_type": "display_data"
    }
   ],
   "source": [
    "from scipy import stats\n",
    "\n",
    "# Create subplots\n",
    "fig, axs = plt.subplots(2, 1, figsize=(20, 15))\n",
    "\n",
    "# Create some fake data with a normal distribution\n",
    "normal_dist = stats.norm(loc=0, scale=1)\n",
    "fake_y = normal_dist.rvs(1000)  \n",
    "\n",
    "# Plot the data from the normal distribution\n",
    "ax = axs[0]\n",
    "ax.hist(fake_y, bins=20)  # Let's try something in between\n",
    "ax.set_xlabel(x_label)\n",
    "ax.set_ylabel(y_label)\n",
    "ax.set_title(\"Normal Distribution\")\n",
    "\n",
    "# Create some fake data with an exponential distribution\n",
    "exponential_dist = stats.expon(loc=0, scale=1)\n",
    "fake_y = exponential_dist.rvs(1000)  \n",
    "\n",
    "# Plot the data from the exponential distribution\n",
    "ax = axs[1]\n",
    "ax.hist(fake_y, bins=20)  # Let's try something in between\n",
    "ax.set_xlabel(x_label)\n",
    "ax.set_ylabel(y_label)\n",
    "ax.set_title(\"Expenential Distribution\")\n",
    "\n",
    "# Show the plots\n",
    "plt.tight_layout()\n",
    "plt.show()"
   ]
  },
  {
   "cell_type": "markdown",
   "metadata": {},
   "source": [
    "## Test for Normal Distribution"
   ]
  },
  {
   "cell_type": "markdown",
   "metadata": {},
   "source": [
    "Let's try to overall the real data over 'fake' data for a `normal` distribution."
   ]
  },
  {
   "cell_type": "code",
   "execution_count": 29,
   "metadata": {},
   "outputs": [],
   "source": [
    "# Set seed\n",
    "np.random.seed(1111)\n",
    "\n",
    "# Make my own fake data\n",
    "norm_dist = stats.norm(loc = 0, scale = 1)\n",
    "y_fake = norm_dist.rvs(size=10000)\n"
   ]
  },
  {
   "cell_type": "code",
   "execution_count": 44,
   "metadata": {},
   "outputs": [
    {
     "data": {
      "image/png": "[encoded data removed]",
      "text/plain": [
       "<Figure size 864x432 with 2 Axes>"
      ]
     },
     "metadata": {
      "needs_background": "light"
     },
     "output_type": "display_data"
    }
   ],
   "source": [
    "#Plot the fake normal data and the arrival time data\n",
    "fig, ax = plt.subplots(1,2,figsize=(12,6))\n",
    "\n",
    "x_lab_1 = \"Norm RV (0,1)\"\n",
    "y_lab_1 = \"Count\"\n",
    "title_1 = \"Histogram: Normal RV, Mean=0, SD=1\"\n",
    "\n",
    "ax[0].hist(y_fake, bins=50)\n",
    "ax[0].set_xlabel(x_lab_1)\n",
    "ax[0].set_ylabel(y_lab_1)\n",
    "ax[0].set_title(title_1)\n",
    "\n",
    "x_lab_2 = \"Arrival Time\"\n",
    "y_lab_2 = \"Count\"\n",
    "title_2 = \"Histogram: Arrival Times (vs. 9am)\"\n",
    "\n",
    "ax[1].hist(y, bins=50)\n",
    "ax[1].set_xlabel(x_lab_2)\n",
    "ax[1].set_ylabel(y_lab_2)\n",
    "ax[1].set_title(title_2)\n",
    "\n",
    "# Show Me\n",
    "plt.show()"
   ]
  },
  {
   "cell_type": "markdown",
   "metadata": {},
   "source": [
    "To me it looks `normal` but it is a small sample size.  \n",
    "\n",
    "Let's run with it and try to use the sample parameters. "
   ]
  },
  {
   "cell_type": "code",
   "execution_count": 49,
   "metadata": {},
   "outputs": [],
   "source": [
    "# What is mean and standard deviaion of the arrival time data\n",
    "arrivals_mean = np.mean(y)\n",
    "arrivals_std = np.std(y)\n",
    "# print(arrivals_mean)\n",
    "# print(arrivals_std)\n",
    "\n",
    "# Now make NEW fake data based on these parameters\n",
    "norm_arrivals = stats.norm(loc=arrivals_mean, scale=arrivals_std)\n",
    "y_fake_arrivals = norm_arrivals.rvs(size=10000)"
   ]
  },
  {
   "cell_type": "code",
   "execution_count": 65,
   "metadata": {},
   "outputs": [
    {
     "data": {
      "image/png": "[encoded data removed]",
      "text/plain": [
       "<Figure size 864x432 with 2 Axes>"
      ]
     },
     "metadata": {
      "needs_background": "light"
     },
     "output_type": "display_data"
    }
   ],
   "source": [
    "#Plot the fake arrival data with the parameters from the arrival time data\n",
    "fig, ax = plt.subplots(1,2,figsize=(12,6))\n",
    "\n",
    "x_lab_1 = \"Norm RV (\" + str(round(arrivals_mean,1)) + ',' + str(round(\n",
    "    arrivals_std,1)) + ')'\n",
    "y_lab_1 = \"Count\"\n",
    "title_1 = \"Histogram: Normal RV,\" + str(round(arrivals_mean,1)) + ',' + str(\n",
    "    round(arrivals_std,1)) + ')'\n",
    "\n",
    "ax[0].hist(y_fake_arrivals, bins=50)\n",
    "ax[0].set_xlabel(x_lab_1)\n",
    "ax[0].set_ylabel(y_lab_1)\n",
    "ax[0].set_title(title_1)\n",
    "\n",
    "x_lab_2 = \"Arrival Time\"\n",
    "y_lab_2 = \"Count\"\n",
    "title_2 = \"Histogram: Arrival Times (vs. 9am)\"\n",
    "\n",
    "ax[1].hist(y, bins=50)\n",
    "ax[1].set_xlabel(x_lab_2)\n",
    "ax[1].set_ylabel(y_lab_2)\n",
    "ax[1].set_title(title_2)\n",
    "\n",
    "# Show Me\n",
    "plt.show()"
   ]
  },
  {
   "cell_type": "markdown",
   "metadata": {},
   "source": [
    "¯\\_(ツ)_/¯\n",
    "\n",
    "I did find a normality test in `scipy`:  \n",
    "https://docs.scipy.org/doc/scipy/reference/generated/scipy.stats.normaltest.html"
   ]
  },
  {
   "cell_type": "code",
   "execution_count": 94,
   "metadata": {},
   "outputs": [
    {
     "data": {
      "text/plain": [
       "7.930547378338131e-13"
      ]
     },
     "execution_count": 94,
     "metadata": {},
     "output_type": "execute_result"
    }
   ],
   "source": [
    "k, p = stats.normaltest(y)\n",
    "p"
   ]
  },
  {
   "cell_type": "markdown",
   "metadata": {
    "slideshow": {
     "slide_type": "slide"
    }
   },
   "source": [
    "Based on the docs, it seems that the null hypothesis is that the data **IS** \n",
    "distributed as described. \n",
    "\n",
    "So if we consider $\\alpha$=0.05, then since the p-value is smaller, then it\n",
    "is highly unlikely the data is `normal`.\n",
    "\n",
    "We can back into a confirmation of this. Let's use the `y_fake` data that we \n",
    "**know** is `normally` distributted."
   ]
  },
  {
   "cell_type": "code",
   "execution_count": 98,
   "metadata": {},
   "outputs": [
    {
     "data": {
      "text/plain": [
       "0.24647372957445138"
      ]
     },
     "execution_count": 98,
     "metadata": {},
     "output_type": "execute_result"
    }
   ],
   "source": [
    "k_fake, p_fake = stats.normaltest(y_fake)\n",
    "p_fake"
   ]
  },
  {
   "cell_type": "markdown",
   "metadata": {},
   "source": [
    "P-value > .05 so doesn't fail.\n",
    "\n",
    "OK, so it definitely is not `normal`.\n"
   ]
  },
  {
   "cell_type": "markdown",
   "metadata": {},
   "source": [
    "Now I want to test vs `Exponential` Distribution."
   ]
  },
  {
   "cell_type": "markdown",
   "metadata": {},
   "source": [
    "---"
   ]
  },
  {
   "cell_type": "markdown",
   "metadata": {},
   "source": [
    "## Test for Exponential Distribution\n",
    "\n",
    "Miles has a good point. Being late is a rare event, so really, if you ignore postive times and 'flip' the data, it kinda looks `exponential`!"
   ]
  },
  {
   "cell_type": "code",
   "execution_count": 84,
   "metadata": {},
   "outputs": [],
   "source": [
    "y_neg = np.array([np.negative(item) for item in y if item <= 0])\n"
   ]
  },
  {
   "cell_type": "code",
   "execution_count": 85,
   "metadata": {},
   "outputs": [],
   "source": [
    "# y_neg = np.negative(y)\n",
    "# y_neg"
   ]
  },
  {
   "cell_type": "code",
   "execution_count": 88,
   "metadata": {},
   "outputs": [],
   "source": [
    "# Create some fake data with an exponential distribution\n",
    "exp_arrivals = stats.expon(loc=arrivals_mean, scale=arrivals_std)\n",
    "y_arrivals_exp = exp_arrivals.rvs(10000)  "
   ]
  },
  {
   "cell_type": "code",
   "execution_count": 89,
   "metadata": {},
   "outputs": [
    {
     "data": {
      "image/png": "[encoded data removed]",
      "text/plain": [
       "<Figure size 864x432 with 2 Axes>"
      ]
     },
     "metadata": {
      "needs_background": "light"
     },
     "output_type": "display_data"
    }
   ],
   "source": [
    "fig, ax = plt.subplots(1,2,figsize=(12,6))\n",
    "\n",
    "x_lab_1 = \"Exp RV (\" + str(round(arrivals_mean,1)) + ',' + str(round(\n",
    "    arrivals_std,1)) + ')'\n",
    "y_lab_1 = \"Count\"\n",
    "title_1 = \"Histogram: Exp RV,\" + str(round(arrivals_mean,1)) + ',' + str(\n",
    "    round(arrivals_std,1)) + ')'\n",
    "\n",
    "# Plot the data from the exponential distribution\n",
    "ax[0].hist(y_arrivals_exp, bins=50)  # Let's try something in between\n",
    "ax[0].set_xlabel(x_lab_1)\n",
    "ax[0].set_ylabel(y_lab_1)\n",
    "ax[0].set_title(title_1)\n",
    "ax[0].set_title(\"Exponential Distribution\")\n",
    "\n",
    "x_lab_2 = \"(Negative) Arrival Time\"\n",
    "y_lab_2 = \"Count\"\n",
    "title_2 = \"Histogram: Arrival Times (vs. 9am)\"\n",
    "\n",
    "ax[1].hist(y_neg, bins=50)\n",
    "ax[1].set_xlabel(x_lab_2)\n",
    "ax[1].set_ylabel(y_lab_2)\n",
    "ax[1].set_title(title_2)\n",
    "\n",
    "# Show the plots\n",
    "plt.tight_layout()\n",
    "plt.show()"
   ]
  },
  {
   "cell_type": "markdown",
   "metadata": {},
   "source": [
    "Pretty sparse. Let's try less bins."
   ]
  },
  {
   "cell_type": "code",
   "execution_count": 100,
   "metadata": {},
   "outputs": [
    {
     "data": {
      "image/png": "[encoded data removed]",
      "text/plain": [
       "<Figure size 864x432 with 2 Axes>"
      ]
     },
     "metadata": {
      "needs_background": "light"
     },
     "output_type": "display_data"
    }
   ],
   "source": [
    "fig, ax = plt.subplots(1,2,figsize=(12,6))\n",
    "\n",
    "x_lab_1 = \"Exp RV (\" + str(round(arrivals_mean,1)) + ',' + str(round(\n",
    "    arrivals_std,1)) + ')'\n",
    "y_lab_1 = \"Count\"\n",
    "title_1 = \"Histogram: Exp RV,\" + str(round(arrivals_mean,1)) + ',' + str(\n",
    "    round(arrivals_std,1)) + ')'\n",
    "\n",
    "# Plot the data from the exponential distribution\n",
    "ax[0].hist(y_arrivals_exp, bins=10)  # Let's try something in between\n",
    "ax[0].set_xlabel(x_lab_1)\n",
    "ax[0].set_ylabel(y_lab_1)\n",
    "ax[0].set_title(title_1)\n",
    "ax[0].set_title(\"Exponential Distribution\")\n",
    "\n",
    "x_lab_2 = \"(Negative) Arrival Time\"\n",
    "y_lab_2 = \"Count\"\n",
    "title_2 = \"Histogram: Arrival Times (vs. 9am)\"\n",
    "\n",
    "ax[1].hist(y_neg, bins=10)\n",
    "ax[1].set_xlabel(x_lab_2)\n",
    "ax[1].set_ylabel(y_lab_2)\n",
    "ax[1].set_title(title_2)\n",
    "\n",
    "# Show the plots\n",
    "plt.tight_layout()\n",
    "plt.show()"
   ]
  },
  {
   "cell_type": "markdown",
   "metadata": {},
   "source": [
    "Kind of? I can't find a similar test for expontial distribution. So I'll leave it at that."
   ]
  },
  {
   "cell_type": "markdown",
   "metadata": {},
   "source": [
    "---"
   ]
  },
  {
   "cell_type": "markdown",
   "metadata": {},
   "source": [
    "Test edit."
   ]
  }
 ],
 "metadata": {
  "kernelspec": {
   "display_name": "Python 3",
   "language": "python",
   "name": "python3"
  },
  "language_info": {
   "codemirror_mode": {
    "name": "ipython",
    "version": 3
   },
   "file_extension": ".py",
   "mimetype": "text/x-python",
   "name": "python",
   "nbconvert_exporter": "python",
   "pygments_lexer": "ipython3",
   "version": "3.6.6"
  }
 },
 "nbformat": 4,
 "nbformat_minor": 2
}
